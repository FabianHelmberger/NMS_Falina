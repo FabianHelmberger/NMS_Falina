{
 "cells": [
  {
   "cell_type": "code",
   "execution_count": 1,
   "metadata": {},
   "outputs": [],
   "source": [
    "import numpy as np\n",
    "import matplotlib.pyplot as plt\n",
    "from time import process_time\n",
    "\n",
    "# global parameters\n",
    "n = 100\n",
    "A = 10\n",
    "B = 2*np.pi\n",
    "phi_A = 1\n",
    "phi_B = 0\n",
    "\n",
    "# define charge distribution\n",
    "def rho(x):\n",
    "    return A*np.cos(B*x)\n",
    "\n",
    "# exact sol\n",
    "def phi(x):\n",
    "    return A/B**2*np.cos(B*x) - x + 1 -A/B**2\n",
    "\n",
    "# Thomas algorithm\n",
    "def TA(off, diag, sol):\n",
    "    n = len(sol)\n",
    "\n",
    "    alpha = np.zeros(n)\n",
    "    beta = np.zeros(n)\n",
    "    out = np.zeros(n)\n",
    "    out[0] = 1\n",
    "\n",
    "    for i in range(n-1, 0, -1):\n",
    "        alpha[i-1] = - off[i] / (diag[i] + off[i] * alpha[i])\n",
    "        beta[i-1] =  (sol[i] - off[i] * beta[i])/(diag[i] + off[i] * alpha[i])\n",
    "\n",
    "    for i in range(1, n):\n",
    "        out[i] = alpha[i-1] * out[i-1] + beta[i-1]\n",
    "\n",
    "    return out\n",
    "\n"
   ]
  },
  {
   "cell_type": "code",
   "execution_count": 2,
   "metadata": {},
   "outputs": [
    {
     "data": {
      "image/png": "[encoded data removed]",
      "text/plain": [
       "<Figure size 432x288 with 1 Axes>"
      ]
     },
     "metadata": {
      "needs_background": "light"
     },
     "output_type": "display_data"
    }
   ],
   "source": [
    "# define x domain\n",
    "# X = np.linspace(0, 1, num=n-1)\n",
    "# h = X[1] - X[0]\n",
    "\n",
    "# # define Matrix for 2nd deriv approx\n",
    "# diag =  np.array([-2 for i in range(n)] * 1 / h ** 2)\n",
    "# diag =  np.concatenate(([1], diag, [1]))\n",
    "\n",
    "# off = np.array([1 for i in range(n-1)] * 1 / h ** 2)\n",
    "# off =  np.concatenate(([0], off, [0]))\n",
    "\n",
    "# F = -rho(X)\n",
    "# F = np.concatenate(([1], F, [0]))\n",
    "\n",
    "# num_sol = TA(off, diag, F)\n",
    "# plt.plot(TA(off, diag, F))\n",
    "# plt.show()"
   ]
  },
  {
   "cell_type": "code",
   "execution_count": 3,
   "metadata": {},
   "outputs": [],
   "source": [
    "def num_sol(n):\n",
    "    # define x domain\n",
    "    X = np.linspace(0, 1, num=n-1)\n",
    "    h = X[1] - X[0]\n",
    "\n",
    "    # define Matrix for 2nd deriv approx\n",
    "    diag =  np.array([-2 for i in range(n)] * 1 / h ** 2)\n",
    "    diag =  np.concatenate(([1], diag, [1]))\n",
    "\n",
    "    off = np.array([1 for i in range(n-1)] * 1 / h ** 2)\n",
    "    off =  np.concatenate(([0], off, [0]))\n",
    "\n",
    "    F = -rho(X)\n",
    "    F = np.concatenate(([1], F, [0]))\n",
    "    \n",
    "    num_sol = TA(off, diag, F)\n",
    "\n",
    "    return num_sol"
   ]
  },
  {
   "cell_type": "code",
   "execution_count": 10,
   "metadata": {},
   "outputs": [
    {
     "name": "stdout",
     "output_type": "stream",
     "text": [
      "time elapsed for n=10: 0.0\n",
      "time elapsed for n=100: 0.0\n"
     ]
    }
   ],
   "source": [
    "#solutions\n",
    "import time\n",
    "t10_start = time.time()\n",
    "\n",
    "n=10\n",
    "exact_10=exact_sol=phi(np.linspace(0,1,n+1))\n",
    "num_10=num_sol(n)\n",
    "t10_stop = time.time()\n",
    "print(\"time elapsed for n=10:\", t10_stop-t10_start) \n",
    "\n",
    "#function for difference of solutions\n",
    "diff_10=abs(exact_10-num_10)\n",
    "\n",
    "\n",
    "t100_start = time.time()\n",
    "n=100\n",
    "exact_100=exact_sol=phi(np.linspace(0,1,n+1))\n",
    "num_100=num_sol(n)\n",
    "t100_stop = time.time()\n",
    "print(\"time elapsed for n=100:\", t100_stop-t100_start) \n",
    "\n",
    "#function for difference of solutions\n",
    "diff_100=abs(exact_100-num_100)\n"
   ]
  },
  {
   "cell_type": "code",
   "execution_count": 11,
   "metadata": {},
   "outputs": [
    {
     "data": {
      "text/plain": [
       "Text(0.5, 1.0, 'Errors dependent on n')"
      ]
     },
     "execution_count": 11,
     "metadata": {},
     "output_type": "execute_result"
    },
    {
     "data": {
      "image/png": "[encoded data removed]",
      "text/plain": [
       "<Figure size 432x288 with 1 Axes>"
      ]
     },
     "metadata": {
      "needs_background": "light"
     },
     "output_type": "display_data"
    }
   ],
   "source": [
    "plt.plot(np.linspace(0,1,10+1),diff_10, label='n=10')\n",
    "plt.plot(np.linspace(0,1,100+1),diff_100, label='n=100')\n",
    "plt.xscale('log')\n",
    "plt.yscale('log')\n",
    "plt.legend()\n",
    "plt.title('Errors dependent on n')"
   ]
  },
  {
   "cell_type": "code",
   "execution_count": null,
   "metadata": {},
   "outputs": [],
   "source": []
  },
  {
   "cell_type": "code",
   "execution_count": null,
   "metadata": {},
   "outputs": [],
   "source": []
  }
 ],
 "metadata": {
  "kernelspec": {
   "display_name": "Python 3",
   "language": "python",
   "name": "python3"
  },
  "language_info": {
   "codemirror_mode": {
    "name": "ipython",
    "version": 3
   },
   "file_extension": ".py",
   "mimetype": "text/x-python",
   "name": "python",
   "nbconvert_exporter": "python",
   "pygments_lexer": "ipython3",
   "version": "3.8.5"
  }
 },
 "nbformat": 4,
 "nbformat_minor": 4
}
